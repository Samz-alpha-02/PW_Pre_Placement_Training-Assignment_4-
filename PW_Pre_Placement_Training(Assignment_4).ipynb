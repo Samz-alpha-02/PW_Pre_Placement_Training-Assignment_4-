{
  "nbformat": 4,
  "nbformat_minor": 0,
  "metadata": {
    "colab": {
      "provenance": []
    },
    "kernelspec": {
      "name": "python3",
      "display_name": "Python 3"
    },
    "language_info": {
      "name": "python"
    }
  },
  "cells": [
    {
      "cell_type": "code",
      "execution_count": 4,
      "metadata": {
        "colab": {
          "base_uri": "https://localhost:8080/"
        },
        "id": "ZEReLTobznE8",
        "outputId": "212ecf18-a1df-47f6-834e-f0d302325791"
      },
      "outputs": [
        {
          "output_type": "stream",
          "name": "stdout",
          "text": [
            "[3, 5]\n"
          ]
        }
      ],
      "source": [
        "#Q1\n",
        "def unique(nums1,nums2,nums3):\n",
        "  common = []\n",
        "\n",
        "  for num in nums1:\n",
        "    if num in nums2 and num in nums3:\n",
        "      common.append(num)\n",
        "\n",
        "  return common\n",
        "\n",
        "# Example usage:\n",
        "nums1 = [1, 2, 3, 4, 5]\n",
        "nums2 = [2, 3, 5, 7]\n",
        "nums3 = [3, 4, 5, 8]\n",
        "\n",
        "result = unique(nums1, nums2, nums3)\n",
        "print(result)"
      ]
    },
    {
      "cell_type": "code",
      "source": [
        "#Q2\n",
        "def unique(nums1,nums2):\n",
        "  answer=[[],[]]\n",
        "  for num in nums1:\n",
        "    if num not in nums2:\n",
        "      answer[0].append(num)\n",
        "  for num in nums2:\n",
        "    if num not in nums1:\n",
        "      answer[1].append(num)\n",
        "  return answer\n",
        "\n",
        "nums1 = [1,2,3]\n",
        "nums2 = [2,4,6]\n",
        "print(unique(nums1,nums2))\n"
      ],
      "metadata": {
        "colab": {
          "base_uri": "https://localhost:8080/"
        },
        "id": "30GKH84Y2fdp",
        "outputId": "1bb016a4-bc16-4b9d-9b67-89550c1ddb3e"
      },
      "execution_count": 16,
      "outputs": [
        {
          "output_type": "stream",
          "name": "stdout",
          "text": [
            "[[1, 3], [4, 6]]\n"
          ]
        }
      ]
    },
    {
      "cell_type": "code",
      "source": [
        "#Q3\n",
        "def transpose(matrix):\n",
        "    rows = len(matrix)\n",
        "    columns = len(matrix[0])\n",
        "\n",
        "    # Swap elements in-place\n",
        "    for i in range(rows):\n",
        "        for j in range(i+1, columns):\n",
        "            matrix[i][j], matrix[j][i] = matrix[j][i], matrix[i][j]\n",
        "\n",
        "    return matrix\n",
        "\n",
        "# Example usage:\n",
        "matrix = [[1, 2, 3], [4, 5, 6], [7, 8, 9]]\n",
        "result = transpose(matrix)\n",
        "print(result)\n"
      ],
      "metadata": {
        "colab": {
          "base_uri": "https://localhost:8080/"
        },
        "id": "zpunlrL94Kcg",
        "outputId": "10805e66-f73b-44c4-b8ea-3069a4901b46"
      },
      "execution_count": 12,
      "outputs": [
        {
          "output_type": "stream",
          "name": "stdout",
          "text": [
            "[[1, 4, 7], [2, 5, 8], [3, 6, 9]]\n"
          ]
        }
      ]
    },
    {
      "cell_type": "code",
      "source": [
        "#Q4\n",
        "def arrayPairSum(nums):\n",
        "    nums.sort()  # Sort the input array in ascending order\n",
        "    result = 0\n",
        "\n",
        "    # Pair up consecutive elements and sum the minimum values\n",
        "    for i in range(0, len(nums), 2):\n",
        "        result += nums[i]\n",
        "\n",
        "    return result\n",
        "\n",
        "# Example usage:\n",
        "nums = [1, 4, 7, 9, 8, 5]\n",
        "result = arrayPairSum(nums)\n",
        "print(result)\n",
        "\n"
      ],
      "metadata": {
        "colab": {
          "base_uri": "https://localhost:8080/"
        },
        "id": "eG04Vx_T734u",
        "outputId": "9b167960-969e-4c76-8e81-3422bfc80a97"
      },
      "execution_count": 19,
      "outputs": [
        {
          "output_type": "stream",
          "name": "stdout",
          "text": [
            "14\n"
          ]
        }
      ]
    },
    {
      "cell_type": "code",
      "source": [
        "#Q5\n",
        "def count_complete_rows(n):\n",
        "    complete_rows = 0\n",
        "    coins = n\n",
        "\n",
        "    for i in range(1, n+1):\n",
        "        coins -= i\n",
        "        if coins >= 0:\n",
        "            complete_rows += 1\n",
        "        else:\n",
        "            break\n",
        "\n",
        "    return complete_rows\n",
        "\n",
        "n = 10\n",
        "result = count_complete_rows(n)\n",
        "print(result)\n"
      ],
      "metadata": {
        "colab": {
          "base_uri": "https://localhost:8080/"
        },
        "id": "zY3cFolE_jUs",
        "outputId": "98287406-50d5-4298-fe89-fc2ceaff6c20"
      },
      "execution_count": 18,
      "outputs": [
        {
          "output_type": "stream",
          "name": "stdout",
          "text": [
            "4\n"
          ]
        }
      ]
    },
    {
      "cell_type": "code",
      "source": [
        "#Q6\n",
        "def square(i):\n",
        "  return i*i\n",
        "\n",
        "nums = [-4,-1,0,3,10]\n",
        "res=[]\n",
        "for i in nums:\n",
        "  res.append(square(i))\n",
        "\n",
        "res.sort()\n",
        "print(res)\n"
      ],
      "metadata": {
        "colab": {
          "base_uri": "https://localhost:8080/"
        },
        "id": "NnnNHhZUC1En",
        "outputId": "eb527865-1c4e-45da-be15-cdc3dacc9d84"
      },
      "execution_count": 20,
      "outputs": [
        {
          "output_type": "stream",
          "name": "stdout",
          "text": [
            "[0, 1, 9, 16, 100]\n"
          ]
        }
      ]
    },
    {
      "cell_type": "code",
      "source": [
        "#Q7\n",
        "def maxCount(m: int, n: int, ops: list[list[int]]) -> int:\n",
        "    if not ops:\n",
        "        return m * n\n",
        "\n",
        "    min_row = float('inf')\n",
        "    min_col = float('inf')\n",
        "\n",
        "    for op in ops:\n",
        "        min_row = min(min_row, op[0])\n",
        "        min_col = min(min_col, op[1])\n",
        "\n",
        "    return min_row * min_col\n",
        "\n",
        "# Example usage:\n",
        "m = 3\n",
        "n = 3\n",
        "ops = [[2, 2], [3, 3]]\n",
        "result = maxCount(m, n, ops)\n",
        "print(result)\n"
      ],
      "metadata": {
        "colab": {
          "base_uri": "https://localhost:8080/"
        },
        "id": "CRB0i6HbEIi2",
        "outputId": "bd140670-1b21-4ba0-bbd7-4b7fe9b6b413"
      },
      "execution_count": 22,
      "outputs": [
        {
          "output_type": "stream",
          "name": "stdout",
          "text": [
            "4\n"
          ]
        }
      ]
    },
    {
      "cell_type": "code",
      "source": [
        "#Q8\n",
        "def pair(nums,n):\n",
        "  lst=[]\n",
        "  res=[]\n",
        "  for i in range(n):\n",
        "    res.append(nums[i])\n",
        "    res.append(nums[i+n])\n",
        "\n",
        "  return res\n",
        "\n",
        "nums = [2,5,1,3,4,7]\n",
        "n = 3\n",
        "print(pair(nums,n))"
      ],
      "metadata": {
        "colab": {
          "base_uri": "https://localhost:8080/"
        },
        "id": "pqcxAycLKGTI",
        "outputId": "1a603df0-1c8f-4959-d45e-a9b4f1a4cc93"
      },
      "execution_count": 27,
      "outputs": [
        {
          "output_type": "stream",
          "name": "stdout",
          "text": [
            "[2, 3, 5, 4, 1, 7]\n"
          ]
        }
      ]
    }
  ]
}